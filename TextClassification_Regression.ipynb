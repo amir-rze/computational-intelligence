{
  "nbformat": 4,
  "nbformat_minor": 0,
  "metadata": {
    "colab": {
      "provenance": []
    },
    "kernelspec": {
      "name": "python3",
      "display_name": "Python 3"
    },
    "language_info": {
      "name": "python"
    }
  },
  "cells": [
    {
      "cell_type": "markdown",
      "metadata": {
        "id": "jD0VCW1lEj2M"
      },
      "source": [
        "import all libraries"
      ]
    },
    {
      "cell_type": "code",
      "metadata": {
        "id": "74bOe84iVT-v"
      },
      "source": [
        "import numpy as np\n",
        "import pandas as pd\n",
        "import matplotlib.pyplot as plt\n",
        "import matplotlib.dates as md"
      ],
      "execution_count": null,
      "outputs": []
    },
    {
      "cell_type": "markdown",
      "metadata": {
        "id": "L7HlzvdiE5Ur"
      },
      "source": [
        "read dataset from scv file"
      ]
    },
    {
      "cell_type": "code",
      "metadata": {
        "colab": {
          "base_uri": "https://localhost:8080/",
          "height": 203
        },
        "id": "PRwvHjihEx5t",
        "outputId": "bb33ec9f-1472-4c52-a5d9-80f7fcc688d7"
      },
      "source": [
        "dataset = pd.read_csv('CRYPTOCURRENCY_COINDESK_BTCUSD_NEW.csv')\n",
        "for i in range(dataset.shape[0]):\n",
        "  dataset['Close'][i] = float(dataset['Close'][i].replace(',',''))\n",
        "dataset.head()\n"
      ],
      "execution_count": null,
      "outputs": [
        {
          "output_type": "execute_result",
          "data": {
            "text/html": [
              "<div>\n",
              "<style scoped>\n",
              "    .dataframe tbody tr th:only-of-type {\n",
              "        vertical-align: middle;\n",
              "    }\n",
              "\n",
              "    .dataframe tbody tr th {\n",
              "        vertical-align: top;\n",
              "    }\n",
              "\n",
              "    .dataframe thead th {\n",
              "        text-align: right;\n",
              "    }\n",
              "</style>\n",
              "<table border=\"1\" class=\"dataframe\">\n",
              "  <thead>\n",
              "    <tr style=\"text-align: right;\">\n",
              "      <th></th>\n",
              "      <th>Date</th>\n",
              "      <th>Close</th>\n",
              "    </tr>\n",
              "  </thead>\n",
              "  <tbody>\n",
              "    <tr>\n",
              "      <th>0</th>\n",
              "      <td>10/11/2020</td>\n",
              "      <td>11350</td>\n",
              "    </tr>\n",
              "    <tr>\n",
              "      <th>1</th>\n",
              "      <td>10/12/2020</td>\n",
              "      <td>11564</td>\n",
              "    </tr>\n",
              "    <tr>\n",
              "      <th>2</th>\n",
              "      <td>10/13/2020</td>\n",
              "      <td>11437</td>\n",
              "    </tr>\n",
              "    <tr>\n",
              "      <th>3</th>\n",
              "      <td>10/14/2020</td>\n",
              "      <td>11396</td>\n",
              "    </tr>\n",
              "    <tr>\n",
              "      <th>4</th>\n",
              "      <td>10/15/2020</td>\n",
              "      <td>11544</td>\n",
              "    </tr>\n",
              "  </tbody>\n",
              "</table>\n",
              "</div>"
            ],
            "text/plain": [
              "         Date  Close\n",
              "0  10/11/2020  11350\n",
              "1  10/12/2020  11564\n",
              "2  10/13/2020  11437\n",
              "3  10/14/2020  11396\n",
              "4  10/15/2020  11544"
            ]
          },
          "metadata": {},
          "execution_count": 84
        }
      ]
    },
    {
      "cell_type": "markdown",
      "metadata": {
        "id": "JDGQwkS1W3te"
      },
      "source": [
        "replacing dates with indices and cleaning dataset"
      ]
    },
    {
      "cell_type": "code",
      "metadata": {
        "colab": {
          "base_uri": "https://localhost:8080/",
          "height": 203
        },
        "id": "NzRxPkSUFpPE",
        "outputId": "0b5f91fb-155c-48ac-8368-825add04b760"
      },
      "source": [
        "dataset.drop(columns=['Date'], inplace=True)\n",
        "dataset.rename(columns={\"Close\":\"price\"},inplace=True)\n",
        "dataset.reset_index(inplace=True)\n",
        "dataset.head()"
      ],
      "execution_count": null,
      "outputs": [
        {
          "output_type": "execute_result",
          "data": {
            "text/html": [
              "<div>\n",
              "<style scoped>\n",
              "    .dataframe tbody tr th:only-of-type {\n",
              "        vertical-align: middle;\n",
              "    }\n",
              "\n",
              "    .dataframe tbody tr th {\n",
              "        vertical-align: top;\n",
              "    }\n",
              "\n",
              "    .dataframe thead th {\n",
              "        text-align: right;\n",
              "    }\n",
              "</style>\n",
              "<table border=\"1\" class=\"dataframe\">\n",
              "  <thead>\n",
              "    <tr style=\"text-align: right;\">\n",
              "      <th></th>\n",
              "      <th>index</th>\n",
              "      <th>price</th>\n",
              "    </tr>\n",
              "  </thead>\n",
              "  <tbody>\n",
              "    <tr>\n",
              "      <th>0</th>\n",
              "      <td>0</td>\n",
              "      <td>11350</td>\n",
              "    </tr>\n",
              "    <tr>\n",
              "      <th>1</th>\n",
              "      <td>1</td>\n",
              "      <td>11564</td>\n",
              "    </tr>\n",
              "    <tr>\n",
              "      <th>2</th>\n",
              "      <td>2</td>\n",
              "      <td>11437</td>\n",
              "    </tr>\n",
              "    <tr>\n",
              "      <th>3</th>\n",
              "      <td>3</td>\n",
              "      <td>11396</td>\n",
              "    </tr>\n",
              "    <tr>\n",
              "      <th>4</th>\n",
              "      <td>4</td>\n",
              "      <td>11544</td>\n",
              "    </tr>\n",
              "  </tbody>\n",
              "</table>\n",
              "</div>"
            ],
            "text/plain": [
              "   index  price\n",
              "0      0  11350\n",
              "1      1  11564\n",
              "2      2  11437\n",
              "3      3  11396\n",
              "4      4  11544"
            ]
          },
          "metadata": {},
          "execution_count": 85
        }
      ]
    },
    {
      "cell_type": "markdown",
      "metadata": {
        "id": "wlPEkJ_LXLI1"
      },
      "source": [
        "splitting dataset for train and test"
      ]
    },
    {
      "cell_type": "code",
      "metadata": {
        "colab": {
          "base_uri": "https://localhost:8080/"
        },
        "id": "A7dgbh_OFqq0",
        "outputId": "ba6c6b79-cdbc-4c28-e9d6-ce1e9614842c"
      },
      "source": [
        "train_dataset = dataset.sample(frac=0.8,random_state=0,axis=0)\n",
        "train_dataset.sort_index(inplace=True)\n",
        "test_dataset = dataset.drop(train_dataset.index)\n",
        "print (\"Number of total cases: \", str(dataset.shape[0]))\n",
        "print (\"Number of training cases: \", str(train_dataset.shape[0]))\n",
        "print (\"Number of testing cases: \" , str(test_dataset.shape[0]))"
      ],
      "execution_count": null,
      "outputs": [
        {
          "output_type": "stream",
          "name": "stdout",
          "text": [
            "Number of total cases:  366\n",
            "Number of training cases:  293\n",
            "Number of testing cases:  73\n"
          ]
        }
      ]
    },
    {
      "cell_type": "markdown",
      "metadata": {
        "id": "Z9RMuYlXit84"
      },
      "source": [
        "Normalize data to scale and avoid overflow"
      ]
    },
    {
      "cell_type": "code",
      "metadata": {
        "colab": {
          "base_uri": "https://localhost:8080/",
          "height": 238
        },
        "id": "qNiBnaXlFq1C",
        "outputId": "122c3e1c-beb0-4b56-c2de-2bc9a1e2669e"
      },
      "source": [
        "# dataset_price = pd.DataFrame(dataset.pop('price'))\n",
        "train_dataset_price = pd.DataFrame(train_dataset.pop('price'))\n",
        "test_dataset_price = pd.DataFrame(test_dataset.pop('price'))\n",
        "# train_dataset_price['price'] = train_dataset_price / dataset_price.mean(axis=0)\n",
        "# test_dataset_price['price'] = train_dataset_price / dataset_price.mean(axis=0)\n",
        "\n",
        "train_dataset_info = train_dataset.describe().transpose()\n",
        "print(train_dataset_info)\n",
        "\n",
        "def normalize(x):\n",
        "  return (x - train_dataset_info['mean']) / train_dataset_info['std']\n",
        "\n",
        "normalized_train_dataset= normalize(train_dataset)\n",
        "normalized_test_dataset = normalize(test_dataset)\n",
        "normalized_train_dataset.head()"
      ],
      "execution_count": null,
      "outputs": [
        {
          "output_type": "stream",
          "name": "stdout",
          "text": [
            "       count       mean         std  min   25%    50%    75%    max\n",
            "index  293.0  179.47099  105.347582  0.0  90.0  179.0  269.0  365.0\n"
          ]
        },
        {
          "output_type": "execute_result",
          "data": {
            "text/html": [
              "<div>\n",
              "<style scoped>\n",
              "    .dataframe tbody tr th:only-of-type {\n",
              "        vertical-align: middle;\n",
              "    }\n",
              "\n",
              "    .dataframe tbody tr th {\n",
              "        vertical-align: top;\n",
              "    }\n",
              "\n",
              "    .dataframe thead th {\n",
              "        text-align: right;\n",
              "    }\n",
              "</style>\n",
              "<table border=\"1\" class=\"dataframe\">\n",
              "  <thead>\n",
              "    <tr style=\"text-align: right;\">\n",
              "      <th></th>\n",
              "      <th>index</th>\n",
              "    </tr>\n",
              "  </thead>\n",
              "  <tbody>\n",
              "    <tr>\n",
              "      <th>0</th>\n",
              "      <td>-1.703608</td>\n",
              "    </tr>\n",
              "    <tr>\n",
              "      <th>1</th>\n",
              "      <td>-1.694116</td>\n",
              "    </tr>\n",
              "    <tr>\n",
              "      <th>2</th>\n",
              "      <td>-1.684623</td>\n",
              "    </tr>\n",
              "    <tr>\n",
              "      <th>3</th>\n",
              "      <td>-1.675131</td>\n",
              "    </tr>\n",
              "    <tr>\n",
              "      <th>4</th>\n",
              "      <td>-1.665639</td>\n",
              "    </tr>\n",
              "  </tbody>\n",
              "</table>\n",
              "</div>"
            ],
            "text/plain": [
              "      index\n",
              "0 -1.703608\n",
              "1 -1.694116\n",
              "2 -1.684623\n",
              "3 -1.675131\n",
              "4 -1.665639"
            ]
          },
          "metadata": {},
          "execution_count": 87
        }
      ]
    },
    {
      "cell_type": "code",
      "metadata": {
        "id": "Cy4UjgNxp0Co"
      },
      "source": [
        "def update(x,t,w,b):\n",
        "  degree = w.shape[0]\n",
        "  n = x.shape[0]\n",
        "  y = b\n",
        "  for i in range (degree):\n",
        "    y=y+w[i][0] * (x**(degree-i))\n",
        "\n",
        "  cost = (1 / (2. * n)) * np.sum((y - t.values) ** 2)\n",
        "  dw = np.zeros((degree,1))\n",
        "  for i in range(degree):\n",
        "    dw[i][0]  = (2 / n) * np.squeeze(np.dot((y - t.values).T, x ** (degree - i))[0])\n",
        "\n",
        "  db = np.squeeze((1 / n) * np.sum(y- t.values))\n",
        "\n",
        "  cost = np.squeeze(cost)\n",
        "\n",
        "  d={\"dw\":dw,\"db\":db}\n",
        "  return d,cost"
      ],
      "execution_count": null,
      "outputs": []
    },
    {
      "cell_type": "code",
      "metadata": {
        "id": "4FMCd8vHp0FO"
      },
      "source": [
        "def find_params(x,t,w,b,alpha, epochs):\n",
        "\n",
        "  for i in range(epochs):\n",
        "    d,cost = update(x,t,w,b)\n",
        "    dw = d[\"dw\"]\n",
        "    db = d[\"db\"]\n",
        "    w = w - alpha * dw\n",
        "    b = b - alpha * db\n",
        "    if i % 1000 == 0:\n",
        "      print (\"Cost after epochs %i: %f\" %(i,cost))\n",
        "\n",
        "  return w,b"
      ],
      "execution_count": null,
      "outputs": []
    },
    {
      "cell_type": "code",
      "metadata": {
        "id": "xfTT1WBima6P"
      },
      "source": [
        "def model(train_x,train_t,test_x,test_t,alpha,epochs,degree):\n",
        "  w = np.zeros((degree, 1))\n",
        "  b = 0\n",
        "\n",
        "  w,b = find_params(train_x,train_t,w,b,alpha,epochs)\n",
        "\n",
        "  test_y=b\n",
        "  train_y=b\n",
        "  for i in range(degree):\n",
        "    test_y =  w[i][0] * (test_x ** (degree - i)) + test_y\n",
        "    train_y = w[i][0] * (train_x ** (degree - i)) + train_x\n",
        "\n",
        "  train_error = np.mean((train_y - train_t.values) ** 2)\n",
        "  test_error = np.mean(((test_y - test_t.values) ** 2))\n",
        "  data={\"w\":w,\"b\":b,\"test_error\":test_error,\"train_error\":train_error}\n",
        "  return data\n"
      ],
      "execution_count": null,
      "outputs": []
    },
    {
      "cell_type": "code",
      "metadata": {
        "colab": {
          "base_uri": "https://localhost:8080/"
        },
        "id": "SBnLaxgV3QVE",
        "outputId": "03975764-dca4-4cd8-b21e-fde6e57a283c"
      },
      "source": [
        "errors = []\n",
        "min_error = {\"degree\": 0, \"test_error\": float('inf')}\n",
        "for i in range(1,7):\n",
        "  print(\"polynomial degree: \" + str(i))\n",
        "  data = model(normalized_train_dataset,train_dataset_price,normalized_test_dataset,test_dataset_price,alpha=0.005,epochs=3000, degree = i)\n",
        "\n",
        "  errors.append({\"degree\": i, \"train_error\": data[\"train_error\"], \"test_error\": data[\"test_error\"], \"w\": data[\"w\"], \"b\": data[\"b\"]})\n",
        "  # min_error[\"test_error\"]= np.where(data[\"test_error\"]<min_error[\"test_error)\"],data[\"test_error\"],min_error[\"test_error)\"])\n",
        "  if (data[\"test_error\"] < min_error[\"test_error\"]).bool():\n",
        "    min_error[\"test_error\"] = data[\"test_error\"]\n",
        "    min_error[\"degree\"] = i\n",
        "\n",
        "  print(min_error)\n",
        "\n"
      ],
      "execution_count": null,
      "outputs": [
        {
          "output_type": "stream",
          "name": "stdout",
          "text": [
            "polynomial degree: 1\n",
            "Cost after epochs 0: 837327501.064846\n",
            "Cost after epochs 1000: 65763627.381601\n",
            "Cost after epochs 2000: 65731038.963537\n",
            "{'degree': 1, 'test_error': index    1.224197e+08\n",
            "dtype: float64}\n",
            "polynomial degree: 2\n",
            "Cost after epochs 0: 837327501.064846\n",
            "Cost after epochs 1000: 47947069.407789\n",
            "Cost after epochs 2000: 40080269.377926\n",
            "{'degree': 2, 'test_error': index    7.391535e+07\n",
            "dtype: float64}\n",
            "polynomial degree: 3\n",
            "Cost after epochs 0: 837327501.064846\n",
            "Cost after epochs 1000: 38758573.353890\n",
            "Cost after epochs 2000: 30674296.297243\n",
            "{'degree': 3, 'test_error': index    5.114554e+07\n",
            "dtype: float64}\n",
            "polynomial degree: 4\n",
            "Cost after epochs 0: 837327501.064846\n",
            "Cost after epochs 1000: 51006235.494458\n",
            "Cost after epochs 2000: 31072347.298664\n",
            "{'degree': 4, 'test_error': index    4.139188e+07\n",
            "dtype: float64}\n",
            "polynomial degree: 5\n",
            "Cost after epochs 0: 837327501.064846\n",
            "Cost after epochs 1000: 51013625.384844\n",
            "Cost after epochs 2000: 29822654.800476\n",
            "{'degree': 5, 'test_error': index    3.850206e+07\n",
            "dtype: float64}\n",
            "polynomial degree: 6\n",
            "Cost after epochs 0: 837327501.064846\n",
            "Cost after epochs 1000: 43671125.299153\n",
            "Cost after epochs 2000: 26668524.334394\n",
            "{'degree': 5, 'test_error': index    3.850206e+07\n",
            "dtype: float64}\n"
          ]
        }
      ]
    },
    {
      "cell_type": "code",
      "metadata": {
        "colab": {
          "base_uri": "https://localhost:8080/"
        },
        "id": "CPdyvcfOmKFd",
        "outputId": "d161f741-112b-46cf-db1f-8c11a10e4039"
      },
      "source": [
        "errors[4][\"w\"]"
      ],
      "execution_count": null,
      "outputs": [
        {
          "output_type": "execute_result",
          "data": {
            "text/plain": [
              "array([[ -1664.89323578],\n",
              "       [  3027.04106141],\n",
              "       [  9981.02628771],\n",
              "       [-14655.35015632],\n",
              "       [ -3018.65841747]])"
            ]
          },
          "metadata": {},
          "execution_count": 103
        }
      ]
    },
    {
      "cell_type": "code",
      "metadata": {
        "colab": {
          "base_uri": "https://localhost:8080/",
          "height": 610
        },
        "id": "a7h9uVOfEYUb",
        "outputId": "cefb1884-0d6b-419e-bc2c-770bb9b06535"
      },
      "source": [
        "fig, ax = plt.subplots(figsize=(15,10))\n",
        "print(\"min_error degree : \",min_error[\"degree\"])\n",
        "ax.scatter(normalized_train_dataset['index'], train_dataset_price['price'])\n",
        "y = errors[min_error[\"degree\"] - 1][\"b\"]\n",
        "for i in range(min_error[\"degree\"]):\n",
        "    y = y + errors[min_error[\"degree\"] - 1][\"w\"][i] * (normalized_train_dataset['index'] ** (min_error[\"degree\"] - i))\n",
        "ax.plot(normalized_train_dataset['index'], y, color='black')\n",
        "ax.grid(True)\n",
        "\n",
        "plt.show()"
      ],
      "execution_count": null,
      "outputs": [
        {
          "output_type": "stream",
          "name": "stdout",
          "text": [
            "min_error degree :  5\n"
          ]
        },
        {
          "output_type": "display_data",
          "data": {
            "image/png": "[encoded data removed]",
            "text/plain": [
              "<Figure size 1080x720 with 1 Axes>"
            ]
          },
          "metadata": {
            "needs_background": "light"
          }
        }
      ]
    }
  ]
}