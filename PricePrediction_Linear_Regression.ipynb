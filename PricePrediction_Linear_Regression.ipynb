{
  "nbformat": 4,
  "nbformat_minor": 0,
  "metadata": {
    "colab": {
      "provenance": []
    },
    "kernelspec": {
      "name": "python3",
      "display_name": "Python 3"
    },
    "language_info": {
      "name": "python"
    }
  },
  "cells": [
    {
      "cell_type": "markdown",
      "metadata": {
        "id": "jD0VCW1lEj2M"
      },
      "source": [
        "import all libraries"
      ]
    },
    {
      "cell_type": "code",
      "metadata": {
        "id": "74bOe84iVT-v"
      },
      "source": [
        "import numpy as np\n",
        "import pandas as pd\n",
        "import matplotlib.pyplot as plt\n",
        "import matplotlib.dates as md"
      ],
      "execution_count": null,
      "outputs": []
    },
    {
      "cell_type": "markdown",
      "metadata": {
        "id": "L7HlzvdiE5Ur"
      },
      "source": [
        "read dataset from scv file"
      ]
    },
    {
      "cell_type": "code",
      "metadata": {
        "colab": {
          "base_uri": "https://localhost:8080/",
          "height": 204
        },
        "id": "PRwvHjihEx5t",
        "outputId": "9d289794-ca7f-41dc-9495-ad00a237b309"
      },
      "source": [
        "dataset = pd.read_csv('CRYPTOCURRENCY_COINDESK_BTCUSD_NEW.csv')\n",
        "for i in range(dataset.shape[0]):\n",
        "  dataset['Close'][i] = float(dataset['Close'][i].replace(',',''))\n",
        "dataset.head()\n"
      ],
      "execution_count": null,
      "outputs": [
        {
          "output_type": "execute_result",
          "data": {
            "text/html": [
              "<div>\n",
              "<style scoped>\n",
              "    .dataframe tbody tr th:only-of-type {\n",
              "        vertical-align: middle;\n",
              "    }\n",
              "\n",
              "    .dataframe tbody tr th {\n",
              "        vertical-align: top;\n",
              "    }\n",
              "\n",
              "    .dataframe thead th {\n",
              "        text-align: right;\n",
              "    }\n",
              "</style>\n",
              "<table border=\"1\" class=\"dataframe\">\n",
              "  <thead>\n",
              "    <tr style=\"text-align: right;\">\n",
              "      <th></th>\n",
              "      <th>Date</th>\n",
              "      <th>Close</th>\n",
              "    </tr>\n",
              "  </thead>\n",
              "  <tbody>\n",
              "    <tr>\n",
              "      <th>0</th>\n",
              "      <td>10/11/2020</td>\n",
              "      <td>11350</td>\n",
              "    </tr>\n",
              "    <tr>\n",
              "      <th>1</th>\n",
              "      <td>10/12/2020</td>\n",
              "      <td>11564</td>\n",
              "    </tr>\n",
              "    <tr>\n",
              "      <th>2</th>\n",
              "      <td>10/13/2020</td>\n",
              "      <td>11437</td>\n",
              "    </tr>\n",
              "    <tr>\n",
              "      <th>3</th>\n",
              "      <td>10/14/2020</td>\n",
              "      <td>11396</td>\n",
              "    </tr>\n",
              "    <tr>\n",
              "      <th>4</th>\n",
              "      <td>10/15/2020</td>\n",
              "      <td>11544</td>\n",
              "    </tr>\n",
              "  </tbody>\n",
              "</table>\n",
              "</div>"
            ],
            "text/plain": [
              "         Date  Close\n",
              "0  10/11/2020  11350\n",
              "1  10/12/2020  11564\n",
              "2  10/13/2020  11437\n",
              "3  10/14/2020  11396\n",
              "4  10/15/2020  11544"
            ]
          },
          "metadata": {},
          "execution_count": 163
        }
      ]
    },
    {
      "cell_type": "markdown",
      "metadata": {
        "id": "JDGQwkS1W3te"
      },
      "source": [
        "replacing dates with indices and cleaning dataset"
      ]
    },
    {
      "cell_type": "code",
      "metadata": {
        "colab": {
          "base_uri": "https://localhost:8080/",
          "height": 204
        },
        "id": "NzRxPkSUFpPE",
        "outputId": "728a61a4-82f2-460a-e82f-1bf36e41435d"
      },
      "source": [
        "dataset.drop(columns=['Date'], inplace=True)\n",
        "dataset.rename(columns={\"Close\":\"price\"},inplace=True)\n",
        "dataset.reset_index(inplace=True)\n",
        "dataset.head()"
      ],
      "execution_count": null,
      "outputs": [
        {
          "output_type": "execute_result",
          "data": {
            "text/html": [
              "<div>\n",
              "<style scoped>\n",
              "    .dataframe tbody tr th:only-of-type {\n",
              "        vertical-align: middle;\n",
              "    }\n",
              "\n",
              "    .dataframe tbody tr th {\n",
              "        vertical-align: top;\n",
              "    }\n",
              "\n",
              "    .dataframe thead th {\n",
              "        text-align: right;\n",
              "    }\n",
              "</style>\n",
              "<table border=\"1\" class=\"dataframe\">\n",
              "  <thead>\n",
              "    <tr style=\"text-align: right;\">\n",
              "      <th></th>\n",
              "      <th>index</th>\n",
              "      <th>price</th>\n",
              "    </tr>\n",
              "  </thead>\n",
              "  <tbody>\n",
              "    <tr>\n",
              "      <th>0</th>\n",
              "      <td>0</td>\n",
              "      <td>11350</td>\n",
              "    </tr>\n",
              "    <tr>\n",
              "      <th>1</th>\n",
              "      <td>1</td>\n",
              "      <td>11564</td>\n",
              "    </tr>\n",
              "    <tr>\n",
              "      <th>2</th>\n",
              "      <td>2</td>\n",
              "      <td>11437</td>\n",
              "    </tr>\n",
              "    <tr>\n",
              "      <th>3</th>\n",
              "      <td>3</td>\n",
              "      <td>11396</td>\n",
              "    </tr>\n",
              "    <tr>\n",
              "      <th>4</th>\n",
              "      <td>4</td>\n",
              "      <td>11544</td>\n",
              "    </tr>\n",
              "  </tbody>\n",
              "</table>\n",
              "</div>"
            ],
            "text/plain": [
              "   index  price\n",
              "0      0  11350\n",
              "1      1  11564\n",
              "2      2  11437\n",
              "3      3  11396\n",
              "4      4  11544"
            ]
          },
          "metadata": {},
          "execution_count": 164
        }
      ]
    },
    {
      "cell_type": "markdown",
      "metadata": {
        "id": "wlPEkJ_LXLI1"
      },
      "source": [
        "splitting dataset for train and test"
      ]
    },
    {
      "cell_type": "code",
      "metadata": {
        "colab": {
          "base_uri": "https://localhost:8080/"
        },
        "id": "A7dgbh_OFqq0",
        "outputId": "346a23ba-f14f-47b9-d602-1f599f55fbb5"
      },
      "source": [
        "train_dataset = dataset.sample(frac=0.8,random_state=0,axis=0)\n",
        "train_dataset.sort_index(inplace=True)\n",
        "test_dataset = dataset.drop(train_dataset.index)\n",
        "print (\"Number of total cases: \", str(dataset.shape[0]))\n",
        "print (\"Number of training cases: \", str(train_dataset.shape[0]))\n",
        "print (\"Number of testing cases: \" , str(test_dataset.shape[0]))"
      ],
      "execution_count": null,
      "outputs": [
        {
          "output_type": "stream",
          "name": "stdout",
          "text": [
            "Number of total cases:  366\n",
            "Number of training cases:  293\n",
            "Number of testing cases:  73\n"
          ]
        }
      ]
    },
    {
      "cell_type": "markdown",
      "metadata": {
        "id": "Juk-YYDPhcaO"
      },
      "source": [
        "plot test_dataset"
      ]
    },
    {
      "cell_type": "code",
      "metadata": {
        "colab": {
          "base_uri": "https://localhost:8080/",
          "height": 592
        },
        "id": "Dzs6jsZjYZSb",
        "outputId": "b5780a49-d7b8-4932-ee24-6e6d12ab1854"
      },
      "source": [
        "fig, ax = plt.subplots(figsize=(15,10))\n",
        "ax.scatter(test_dataset['index'], test_dataset['price'])\n",
        "ax.grid(True)\n",
        "plt.show()"
      ],
      "execution_count": null,
      "outputs": [
        {
          "output_type": "display_data",
          "data": {
            "image/png": "[encoded data removed]",
            "text/plain": [
              "<Figure size 1080x720 with 1 Axes>"
            ]
          },
          "metadata": {
            "needs_background": "light"
          }
        }
      ]
    },
    {
      "cell_type": "markdown",
      "metadata": {
        "id": "Z9RMuYlXit84"
      },
      "source": [
        "Normalize data to scale and avoid overflow"
      ]
    },
    {
      "cell_type": "code",
      "metadata": {
        "colab": {
          "base_uri": "https://localhost:8080/",
          "height": 238
        },
        "id": "qNiBnaXlFq1C",
        "outputId": "6a5007e3-1d20-4efc-974b-9a502a444979"
      },
      "source": [
        "train_dataset_price = pd.DataFrame(train_dataset.pop('price'))\n",
        "test_dataset_price = pd.DataFrame(test_dataset.pop('price'))\n",
        "train_dataset_info = train_dataset.describe().transpose()\n",
        "print(train_dataset_info)\n",
        "\n",
        "def normalize(x):\n",
        "  return (x - train_dataset_info['mean']) / train_dataset_info['std']\n",
        "\n",
        "normalized_train_dataset= normalize(train_dataset)\n",
        "normalized_test_dataset = normalize(test_dataset)\n",
        "normalized_train_dataset.head()"
      ],
      "execution_count": null,
      "outputs": [
        {
          "output_type": "stream",
          "name": "stdout",
          "text": [
            "       count       mean         std  min   25%    50%    75%    max\n",
            "index  293.0  179.47099  105.347582  0.0  90.0  179.0  269.0  365.0\n"
          ]
        },
        {
          "output_type": "execute_result",
          "data": {
            "text/html": [
              "<div>\n",
              "<style scoped>\n",
              "    .dataframe tbody tr th:only-of-type {\n",
              "        vertical-align: middle;\n",
              "    }\n",
              "\n",
              "    .dataframe tbody tr th {\n",
              "        vertical-align: top;\n",
              "    }\n",
              "\n",
              "    .dataframe thead th {\n",
              "        text-align: right;\n",
              "    }\n",
              "</style>\n",
              "<table border=\"1\" class=\"dataframe\">\n",
              "  <thead>\n",
              "    <tr style=\"text-align: right;\">\n",
              "      <th></th>\n",
              "      <th>index</th>\n",
              "    </tr>\n",
              "  </thead>\n",
              "  <tbody>\n",
              "    <tr>\n",
              "      <th>0</th>\n",
              "      <td>-1.703608</td>\n",
              "    </tr>\n",
              "    <tr>\n",
              "      <th>1</th>\n",
              "      <td>-1.694116</td>\n",
              "    </tr>\n",
              "    <tr>\n",
              "      <th>2</th>\n",
              "      <td>-1.684623</td>\n",
              "    </tr>\n",
              "    <tr>\n",
              "      <th>3</th>\n",
              "      <td>-1.675131</td>\n",
              "    </tr>\n",
              "    <tr>\n",
              "      <th>4</th>\n",
              "      <td>-1.665639</td>\n",
              "    </tr>\n",
              "  </tbody>\n",
              "</table>\n",
              "</div>"
            ],
            "text/plain": [
              "      index\n",
              "0 -1.703608\n",
              "1 -1.694116\n",
              "2 -1.684623\n",
              "3 -1.675131\n",
              "4 -1.665639"
            ]
          },
          "metadata": {},
          "execution_count": 167
        }
      ]
    },
    {
      "cell_type": "code",
      "metadata": {
        "id": "Cy4UjgNxp0Co"
      },
      "source": [
        "def update(x,t,w,b):\n",
        "  n = x.shape[0]\n",
        "  y = w * x + b\n",
        "  cost = (1 / (2. * n)) * np.sum((y.values - t) ** 2)\n",
        "  dw = (1 / n) * np.squeeze(np.dot((y.values - t).T, x)[0])\n",
        "  db = np.squeeze((1 / n) * np.sum(y.values - t))\n",
        "  cost = np.squeeze(cost)\n",
        "\n",
        "  d={\"dw\":dw,\"db\":db}\n",
        "  return d,cost\n"
      ],
      "execution_count": null,
      "outputs": []
    },
    {
      "cell_type": "code",
      "metadata": {
        "id": "4FMCd8vHp0FO"
      },
      "source": [
        "def find_params(x,t,w,b,alpha, epochs):\n",
        "\n",
        "  for i in range(epochs):\n",
        "    d,cost = update(x,t,w,b)\n",
        "    dw = d[\"dw\"]\n",
        "    db = d[\"db\"]\n",
        "\n",
        "    w = w - alpha * dw\n",
        "    b = b - alpha * db\n",
        "    if i % 100 == 0:\n",
        "      print (\"Cost after epochs %i: %f\" %(i,cost))\n",
        "\n",
        "  return w,b"
      ],
      "execution_count": null,
      "outputs": []
    },
    {
      "cell_type": "code",
      "metadata": {
        "id": "xfTT1WBima6P"
      },
      "source": [
        "def model(train_x,train_t,test_x,test_t,alpha,epochs):\n",
        "  w = 0\n",
        "  b = 0\n",
        "\n",
        "  w,b = find_params(train_x,train_t,w,b,alpha,epochs)\n",
        "\n",
        "  print(\"train error: {} %\".format(np.mean(((w * train_x + b).values - train_t) ** 2)))\n",
        "  print(\"test error: {} %\".format(np.mean(((w * test_x + b).values - test_t) ** 2)))\n",
        "\n",
        "  return w,b\n"
      ],
      "execution_count": null,
      "outputs": []
    },
    {
      "cell_type": "code",
      "metadata": {
        "colab": {
          "base_uri": "https://localhost:8080/"
        },
        "id": "SBnLaxgV3QVE",
        "outputId": "b1a56ef8-ec67-4dd4-d4e2-1742ac851c39"
      },
      "source": [
        "w,b = model(normalized_train_dataset,train_dataset_price,normalized_test_dataset,test_dataset_price,alpha=0.01,epochs=2000)"
      ],
      "execution_count": null,
      "outputs": [
        {
          "output_type": "stream",
          "name": "stdout",
          "text": [
            "Cost after epochs 0: 837327501.064846\n",
            "Cost after epochs 100: 169142210.611141\n",
            "Cost after epochs 200: 79590475.313912\n",
            "Cost after epochs 300: 67588519.805267\n",
            "Cost after epochs 400: 65979983.244784\n",
            "Cost after epochs 500: 65764402.095215\n",
            "Cost after epochs 600: 65735509.166954\n",
            "Cost after epochs 700: 65731636.828850\n",
            "Cost after epochs 800: 65731117.842517\n",
            "Cost after epochs 900: 65731048.285730\n",
            "Cost after epochs 1000: 65731038.963408\n",
            "Cost after epochs 1100: 65731037.713985\n",
            "Cost after epochs 1200: 65731037.546531\n",
            "Cost after epochs 1300: 65731037.524088\n",
            "Cost after epochs 1400: 65731037.521080\n",
            "Cost after epochs 1500: 65731037.520677\n",
            "Cost after epochs 1600: 65731037.520622\n",
            "Cost after epochs 1700: 65731037.520615\n",
            "Cost after epochs 1800: 65731037.520614\n",
            "Cost after epochs 1900: 65731037.520614\n",
            "train error: price    1.314621e+08\n",
            "dtype: float64 %\n",
            "test error: price    1.224197e+08\n",
            "dtype: float64 %\n"
          ]
        }
      ]
    },
    {
      "cell_type": "code",
      "metadata": {
        "colab": {
          "base_uri": "https://localhost:8080/",
          "height": 592
        },
        "id": "a7h9uVOfEYUb",
        "outputId": "ac2d2363-c471-4e7c-f2a9-b6505c634802"
      },
      "source": [
        "fig, ax = plt.subplots(figsize=(15,10))\n",
        "\n",
        "ax.scatter(normalized_train_dataset['index'], train_dataset_price['price'])\n",
        "ax.plot(normalized_train_dataset['index'], w * normalized_train_dataset['index'] + b, color='black')\n",
        "ax.grid(True)\n",
        "\n",
        "plt.show()\n",
        "\n"
      ],
      "execution_count": null,
      "outputs": [
        {
          "output_type": "display_data",
          "data": {
            "image/png": "[encoded data removed]",
            "text/plain": [
              "<Figure size 1080x720 with 1 Axes>"
            ]
          },
          "metadata": {
            "needs_background": "light"
          }
        }
      ]
    }
  ]
}